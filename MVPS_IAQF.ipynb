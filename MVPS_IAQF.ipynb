{
 "cells": [
  {
   "cell_type": "code",
   "execution_count": 409,
   "id": "4c381a52",
   "metadata": {},
   "outputs": [],
   "source": [
    "import pandas as pd\n",
    "import numpy as np\n",
    "from pykalman import KalmanFilter\n",
    "import matplotlib.pyplot as plt\n",
    "import os\n",
    "import arch\n",
    "from sklearn.linear_model import LinearRegression"
   ]
  },
  {
   "cell_type": "markdown",
   "id": "38a85ea7",
   "metadata": {},
   "source": [
    "# Data Cleaning"
   ]
  },
  {
   "cell_type": "code",
   "execution_count": null,
   "id": "06e3d891",
   "metadata": {},
   "outputs": [],
   "source": [
    "#Data cleaning \n",
    "file_names_lst = [\"DIA.csv\", \"FEZ.csv\", \"IJH.csv\", \"IWD.csv\", \"IWF.csv\",\n",
    "                  \"IWM.csv\", \"IWN.csv\", \"IWO.csv\", \"MDY.csv\", \"OEF.csv\", \"QQQ.csv\", \"SPY.csv\", \"VTI.csv\"]\n",
    "equity_names_lst = [\"DIA\", \"FEZ\", \"IJH\", \"IWD\", \"IWF\",\n",
    "                    \"IWM\", \"IWN\", \"IWO\", \"MDY\", \"OEF\", \"QQQ\", \"SPY\", \"VTI\"]\n",
    "uni_daily_prices = pd.DataFrame() # Dataframe with daily Adj Close\n",
    "uni_daily_handl_prices = pd.DataFrame() # Dataframe with daily high and daily low\n",
    "uni_daily_range = pd.DataFrame() # Dataframe with daily range(calculated by ln(high/low))\n",
    "for i in range(len(file_names_lst)):\n",
    "    file_name = file_names_lst[i]\n",
    "    equity_name = equity_names_lst[i]\n",
    "    df = pd.read_csv(file_name)\n",
    "    df = df[['Date', 'Adj Close', 'High', 'Low']]\n",
    "    df['Daily Range'] = np.log(df[\"High\"]/df[\"Low\"])\n",
    "    df['Date'] = pd.to_datetime(df['Date'])\n",
    "    cutoff_date = pd.to_datetime('2005-01-01')\n",
    "    df = df.loc[df['Date'] > cutoff_date, :]\n",
    "    if i == 0:\n",
    "        uni_daily_prices['Date'] = df['Date']\n",
    "        uni_daily_handl_prices['Date'] = df['Date']\n",
    "        uni_daily_range['Date'] = df['Date']\n",
    "        uni_daily_prices.set_index('Date', inplace=True)\n",
    "        uni_daily_handl_prices.set_index('Date', inplace=True)\n",
    "        uni_daily_range.set_index('Date', inplace=True)\n",
    "    df.set_index('Date', inplace=True)\n",
    "    uni_daily_prices[equity_name] = df[\"Adj Close\"]\n",
    "    uni_daily_handl_prices[equity_name + \" High\"] = df[\"High\"]\n",
    "    uni_daily_handl_prices[equity_name + \" Low\"] = df[\"Low\"]\n",
    "    uni_daily_range[equity_name] = df[\"Daily Range\"]\n",
    "uni_daily_returns_df = uni_daily_prices.pct_change()\n",
    "uni_monthly_prices = uni_daily_prices.resample('M').last()\n",
    "uni_monthly_returns_df = uni_monthly_prices.pct_change()\n",
    "uni_daily_returns_df = uni_daily_returns_df.iloc[1:]"
   ]
  },
  {
   "cell_type": "markdown",
   "id": "f893677c",
   "metadata": {},
   "source": [
    "# Find Pair"
   ]
  },
  {
   "cell_type": "code",
   "execution_count": null,
   "id": "f6651204",
   "metadata": {},
   "outputs": [],
   "source": [
    "# Find the minimum value of SSD(sum of squared difference) among each pair of return of indexes\n",
    "def SSD(df):\n",
    "    ssd_df = pd.DataFrame(index = ['SSD'])\n",
    "    for i in range(len(df.columns)):\n",
    "        for j in range(i+1, len(df.columns)):\n",
    "            # calculate SSD between columns i and j\n",
    "            col1 = df.iloc[:, i]\n",
    "            col2 = df.iloc[:, j]\n",
    "            ssd = ((col1 - col2) ** 2).sum()\n",
    "            \n",
    "            # store result in ssd_df\n",
    "            colname = f\"{df.columns[i]}-{df.columns[j]}\"\n",
    "            ssd_df[colname] = [ssd]\n",
    "    \n",
    "    return ssd_df\n",
    "ssd_daily_df = SSD(uni_daily_returns_df).T\n",
    "min_ssd_daily = ssd_daily_df.idxmin(axis=0)[0]\n",
    "ssd_daily_df.sort_values(by='SSD', ascending=True, inplace=True)\n",
    "\n",
    "print(ssd_daily_df)\n",
    "\n",
    "print(f\"Minimum SSD value(daily) is {ssd_daily_df['SSD'][min_ssd_daily]} in column '{min_ssd_daily}'\")\n",
    "# Minimum SSD value(daily) is 0.009802063661051762 in column 'SPY-VTI' when the indexes are ['DIA','FEZ','IJH','IWD','IWF','IWM','IWN','IWO','MDY','OEF','QQQ','SPY','VTI']\n"
   ]
  },
  {
   "cell_type": "code",
   "execution_count": null,
   "id": "d6eab65e",
   "metadata": {},
   "outputs": [],
   "source": [
    "# Find the best kendall tau rate to further support pair searching\n",
    "from scipy.stats import kendalltau\n",
    "\n",
    "def Kendall_Tau(df):\n",
    "    kendall_df = pd.DataFrame(index = ['KT'])\n",
    "    # iterate over column pairs\n",
    "    for i in range(len(df.columns)):\n",
    "        for j in range(i+1, len(df.columns)):\n",
    "            # calculate Kendall tau correlation between columns i and j\n",
    "            col1 = df.iloc[:, i]\n",
    "            col2 = df.iloc[:, j]\n",
    "            tau, pval = kendalltau(col1, col2)\n",
    "            # store result in kendall_df\n",
    "            colname = f\"{df.columns[i]}-{df.columns[j]}\"\n",
    "            kendall_df[colname] = [tau]\n",
    "    # print results\n",
    "    return kendall_df\n",
    "\n",
    "kt_daily_df = Kendall_Tau(uni_daily_returns_df).T\n",
    "max_kt_daily = kt_daily_df.idxmax(axis=0)[0]\n",
    "kt_daily_df.sort_values(by='KT', ascending=False, inplace=True)\n",
    "\n",
    "print(kt_daily_df)\n",
    "print(f\"Maximum KT value(daily) is {kt_daily_df['KT'][max_kt_daily]} in column '{max_kt_daily}'\")\n",
    "# Maximum KT value(daily) is 0.9443723187207665 in column 'IJH-MDY'"
   ]
  },
  {
   "cell_type": "markdown",
   "id": "e43b5971",
   "metadata": {},
   "source": [
    "# Copulas"
   ]
  },
  {
   "cell_type": "markdown",
   "id": "3d729f6c",
   "metadata": {},
   "source": [
    "Please check R studio Code for this section"
   ]
  },
  {
   "cell_type": "markdown",
   "id": "96bb1a4e",
   "metadata": {},
   "source": [
    "# Backtesting"
   ]
  },
  {
   "cell_type": "markdown",
   "id": "46af4fb5",
   "metadata": {},
   "source": [
    "## Data Preparation"
   ]
  },
  {
   "cell_type": "code",
   "execution_count": 697,
   "id": "6be07f39",
   "metadata": {},
   "outputs": [],
   "source": [
    "path = r\"C:\\Users\\12451\\OneDrive\\桌面\\BU\\2023 Spring\\IAQF\\\\Data\\\\\"\n",
    "csv_l = [\"IJH.csv\", \"MDY.csv\", \"SPY.csv\", \"VTI.csv\"]"
   ]
  },
  {
   "cell_type": "code",
   "execution_count": 571,
   "id": "1ce6f09d",
   "metadata": {},
   "outputs": [
    {
     "data": {
      "text/html": [
       "<div>\n",
       "<style scoped>\n",
       "    .dataframe tbody tr th:only-of-type {\n",
       "        vertical-align: middle;\n",
       "    }\n",
       "\n",
       "    .dataframe tbody tr th {\n",
       "        vertical-align: top;\n",
       "    }\n",
       "\n",
       "    .dataframe thead th {\n",
       "        text-align: right;\n",
       "    }\n",
       "</style>\n",
       "<table border=\"1\" class=\"dataframe\">\n",
       "  <thead>\n",
       "    <tr style=\"text-align: right;\">\n",
       "      <th></th>\n",
       "      <th>Date</th>\n",
       "      <th>DIA</th>\n",
       "      <th>FEZ</th>\n",
       "      <th>IJH</th>\n",
       "      <th>IWD</th>\n",
       "      <th>IWF</th>\n",
       "      <th>IWM</th>\n",
       "      <th>IWN</th>\n",
       "      <th>IWO</th>\n",
       "      <th>MDY</th>\n",
       "      <th>OEF</th>\n",
       "      <th>QQQ</th>\n",
       "      <th>SPY</th>\n",
       "      <th>VTI</th>\n",
       "    </tr>\n",
       "  </thead>\n",
       "  <tbody>\n",
       "    <tr>\n",
       "      <th>0</th>\n",
       "      <td>2005-01-04</td>\n",
       "      <td>-0.009504</td>\n",
       "      <td>-0.016792</td>\n",
       "      <td>-0.016245</td>\n",
       "      <td>-0.008224</td>\n",
       "      <td>-0.013966</td>\n",
       "      <td>-0.021436</td>\n",
       "      <td>-0.018091</td>\n",
       "      <td>-0.025340</td>\n",
       "      <td>-0.018289</td>\n",
       "      <td>-0.009118</td>\n",
       "      <td>-0.018227</td>\n",
       "      <td>-0.012219</td>\n",
       "      <td>-0.013310</td>\n",
       "    </tr>\n",
       "    <tr>\n",
       "      <th>1</th>\n",
       "      <td>2005-01-05</td>\n",
       "      <td>-0.005550</td>\n",
       "      <td>-0.001275</td>\n",
       "      <td>-0.009970</td>\n",
       "      <td>-0.006296</td>\n",
       "      <td>-0.006665</td>\n",
       "      <td>-0.019987</td>\n",
       "      <td>-0.019973</td>\n",
       "      <td>-0.017332</td>\n",
       "      <td>-0.013186</td>\n",
       "      <td>-0.002654</td>\n",
       "      <td>-0.006189</td>\n",
       "      <td>-0.006901</td>\n",
       "      <td>-0.006918</td>\n",
       "    </tr>\n",
       "  </tbody>\n",
       "</table>\n",
       "</div>"
      ],
      "text/plain": [
       "         Date       DIA       FEZ       IJH       IWD       IWF       IWM  \\\n",
       "0  2005-01-04 -0.009504 -0.016792 -0.016245 -0.008224 -0.013966 -0.021436   \n",
       "1  2005-01-05 -0.005550 -0.001275 -0.009970 -0.006296 -0.006665 -0.019987   \n",
       "\n",
       "        IWN       IWO       MDY       OEF       QQQ       SPY       VTI  \n",
       "0 -0.018091 -0.025340 -0.018289 -0.009118 -0.018227 -0.012219 -0.013310  \n",
       "1 -0.019973 -0.017332 -0.013186 -0.002654 -0.006189 -0.006901 -0.006918  "
      ]
     },
     "execution_count": 571,
     "metadata": {},
     "output_type": "execute_result"
    }
   ],
   "source": [
    "returns = pd.read_csv(path + 'daily_returns.csv')\n",
    "returns.head(2)"
   ]
  },
  {
   "cell_type": "code",
   "execution_count": 572,
   "id": "20777d08",
   "metadata": {},
   "outputs": [],
   "source": [
    "#Merge data. Keep rows with same date (IJH-MDY)\n",
    "IJH = pd.read_csv(path+csv_l[0])\n",
    "MDY = pd.read_csv(path+csv_l[1])\n",
    "IJH = IJH.merge(MDY, on='Date')"
   ]
  },
  {
   "cell_type": "code",
   "execution_count": 732,
   "id": "b87195c8",
   "metadata": {},
   "outputs": [],
   "source": [
    "#Merge data. Keep rows with same date (SPY-VTI)\n",
    "SPY = pd.read_csv(path+csv_l[2])\n",
    "VTI = pd.read_csv(path+csv_l[3])\n",
    "SPY = SPY.merge(VTI, on='Date')"
   ]
  },
  {
   "cell_type": "code",
   "execution_count": 579,
   "id": "03575941",
   "metadata": {},
   "outputs": [],
   "source": [
    "# Volatility proxy for IJH-MDY \n",
    "temp_ijh = np.log(np.array(IJH['High_x'])/np.array(IJH['Low_x']))\n",
    "temp_mdy = np.log(np.array(IJH['High_y'])/np.array(IJH['Low_y']))\n",
    "d = {'IJH':temp_ijh, 'MDY':temp_mdy}\n",
    "# The length will be 1 larger than the return dataframes, so the last element should be deleted when needed\n",
    "uni_daily_range = pd.DataFrame(data=d) "
   ]
  },
  {
   "cell_type": "code",
   "execution_count": 733,
   "id": "3fc3c0c0",
   "metadata": {},
   "outputs": [
    {
     "data": {
      "text/html": [
       "<div>\n",
       "<style scoped>\n",
       "    .dataframe tbody tr th:only-of-type {\n",
       "        vertical-align: middle;\n",
       "    }\n",
       "\n",
       "    .dataframe tbody tr th {\n",
       "        vertical-align: top;\n",
       "    }\n",
       "\n",
       "    .dataframe thead th {\n",
       "        text-align: right;\n",
       "    }\n",
       "</style>\n",
       "<table border=\"1\" class=\"dataframe\">\n",
       "  <thead>\n",
       "    <tr style=\"text-align: right;\">\n",
       "      <th></th>\n",
       "      <th>SPY</th>\n",
       "      <th>VTI</th>\n",
       "    </tr>\n",
       "  </thead>\n",
       "  <tbody>\n",
       "    <tr>\n",
       "      <th>0</th>\n",
       "      <td>0.011516</td>\n",
       "      <td>0.007004</td>\n",
       "    </tr>\n",
       "    <tr>\n",
       "      <th>1</th>\n",
       "      <td>0.023386</td>\n",
       "      <td>0.022410</td>\n",
       "    </tr>\n",
       "    <tr>\n",
       "      <th>2</th>\n",
       "      <td>0.014151</td>\n",
       "      <td>0.013436</td>\n",
       "    </tr>\n",
       "    <tr>\n",
       "      <th>3</th>\n",
       "      <td>0.008803</td>\n",
       "      <td>0.005338</td>\n",
       "    </tr>\n",
       "    <tr>\n",
       "      <th>4</th>\n",
       "      <td>0.020266</td>\n",
       "      <td>0.017448</td>\n",
       "    </tr>\n",
       "  </tbody>\n",
       "</table>\n",
       "</div>"
      ],
      "text/plain": [
       "        SPY       VTI\n",
       "0  0.011516  0.007004\n",
       "1  0.023386  0.022410\n",
       "2  0.014151  0.013436\n",
       "3  0.008803  0.005338\n",
       "4  0.020266  0.017448"
      ]
     },
     "execution_count": 733,
     "metadata": {},
     "output_type": "execute_result"
    }
   ],
   "source": [
    "# Volatility proxy for SPY-VTI\n",
    "temp_spy = np.log(np.array(SPY['High_x'])/np.array(SPY['Low_x']))\n",
    "temp_vti = np.log(np.array(SPY['High_y'])/np.array(SPY['Low_y']))\n",
    "d = {'SPY':temp_spy, 'VTI':temp_vti}\n",
    "# The length will be 1 larger than the return dataframes, so the last element should be deleted when needed\n",
    "sv_daily_range = pd.DataFrame(data=d) \n",
    "sv_daily_range.head(5)"
   ]
  },
  {
   "cell_type": "code",
   "execution_count": 6,
   "id": "5b0dbddc",
   "metadata": {},
   "outputs": [
    {
     "data": {
      "text/html": [
       "<div>\n",
       "<style scoped>\n",
       "    .dataframe tbody tr th:only-of-type {\n",
       "        vertical-align: middle;\n",
       "    }\n",
       "\n",
       "    .dataframe tbody tr th {\n",
       "        vertical-align: top;\n",
       "    }\n",
       "\n",
       "    .dataframe thead th {\n",
       "        text-align: right;\n",
       "    }\n",
       "</style>\n",
       "<table border=\"1\" class=\"dataframe\">\n",
       "  <thead>\n",
       "    <tr style=\"text-align: right;\">\n",
       "      <th></th>\n",
       "      <th>Date</th>\n",
       "      <th>IJH</th>\n",
       "      <th>MDY</th>\n",
       "    </tr>\n",
       "  </thead>\n",
       "  <tbody>\n",
       "    <tr>\n",
       "      <th>0</th>\n",
       "      <td>2000-07-20</td>\n",
       "      <td>37.935215</td>\n",
       "      <td>72.459839</td>\n",
       "    </tr>\n",
       "    <tr>\n",
       "      <th>1</th>\n",
       "      <td>2000-07-21</td>\n",
       "      <td>37.431396</td>\n",
       "      <td>70.920128</td>\n",
       "    </tr>\n",
       "    <tr>\n",
       "      <th>2</th>\n",
       "      <td>2000-07-24</td>\n",
       "      <td>37.107128</td>\n",
       "      <td>70.439003</td>\n",
       "    </tr>\n",
       "    <tr>\n",
       "      <th>3</th>\n",
       "      <td>2000-07-25</td>\n",
       "      <td>36.921825</td>\n",
       "      <td>70.607445</td>\n",
       "    </tr>\n",
       "    <tr>\n",
       "      <th>4</th>\n",
       "      <td>2000-07-26</td>\n",
       "      <td>36.782845</td>\n",
       "      <td>70.174393</td>\n",
       "    </tr>\n",
       "  </tbody>\n",
       "</table>\n",
       "</div>"
      ],
      "text/plain": [
       "         Date        IJH        MDY\n",
       "0  2000-07-20  37.935215  72.459839\n",
       "1  2000-07-21  37.431396  70.920128\n",
       "2  2000-07-24  37.107128  70.439003\n",
       "3  2000-07-25  36.921825  70.607445\n",
       "4  2000-07-26  36.782845  70.174393"
      ]
     },
     "execution_count": 6,
     "metadata": {},
     "output_type": "execute_result"
    }
   ],
   "source": [
    "IJH_MDY = IJH[[\"Date\", \"Adj Close_x\",\"Adj Close_y\"]]\n",
    "IJH_MDY = IJH_MDY.rename({\"Adj Close_x\": \"IJH\", \"Adj Close_y\": \"MDY\"}, axis = 'columns')\n",
    "IJH_MDY.head()"
   ]
  },
  {
   "cell_type": "code",
   "execution_count": 8,
   "id": "8e725a9b",
   "metadata": {},
   "outputs": [
    {
     "data": {
      "text/html": [
       "<div>\n",
       "<style scoped>\n",
       "    .dataframe tbody tr th:only-of-type {\n",
       "        vertical-align: middle;\n",
       "    }\n",
       "\n",
       "    .dataframe tbody tr th {\n",
       "        vertical-align: top;\n",
       "    }\n",
       "\n",
       "    .dataframe thead th {\n",
       "        text-align: right;\n",
       "    }\n",
       "</style>\n",
       "<table border=\"1\" class=\"dataframe\">\n",
       "  <thead>\n",
       "    <tr style=\"text-align: right;\">\n",
       "      <th></th>\n",
       "      <th>Date</th>\n",
       "      <th>IJH</th>\n",
       "      <th>MDY</th>\n",
       "    </tr>\n",
       "  </thead>\n",
       "  <tbody>\n",
       "    <tr>\n",
       "      <th>1</th>\n",
       "      <td>2000-07-21</td>\n",
       "      <td>-0.013281</td>\n",
       "      <td>-0.021249</td>\n",
       "    </tr>\n",
       "    <tr>\n",
       "      <th>2</th>\n",
       "      <td>2000-07-24</td>\n",
       "      <td>-0.008663</td>\n",
       "      <td>-0.006784</td>\n",
       "    </tr>\n",
       "    <tr>\n",
       "      <th>3</th>\n",
       "      <td>2000-07-25</td>\n",
       "      <td>-0.004994</td>\n",
       "      <td>0.002391</td>\n",
       "    </tr>\n",
       "    <tr>\n",
       "      <th>4</th>\n",
       "      <td>2000-07-26</td>\n",
       "      <td>-0.003764</td>\n",
       "      <td>-0.006133</td>\n",
       "    </tr>\n",
       "    <tr>\n",
       "      <th>5</th>\n",
       "      <td>2000-07-27</td>\n",
       "      <td>-0.011178</td>\n",
       "      <td>-0.016113</td>\n",
       "    </tr>\n",
       "  </tbody>\n",
       "</table>\n",
       "</div>"
      ],
      "text/plain": [
       "         Date       IJH       MDY\n",
       "1  2000-07-21 -0.013281 -0.021249\n",
       "2  2000-07-24 -0.008663 -0.006784\n",
       "3  2000-07-25 -0.004994  0.002391\n",
       "4  2000-07-26 -0.003764 -0.006133\n",
       "5  2000-07-27 -0.011178 -0.016113"
      ]
     },
     "execution_count": 8,
     "metadata": {},
     "output_type": "execute_result"
    }
   ],
   "source": [
    "# Create Return Dataframe for IJH-MDY\n",
    "IJH_r = np.array(IJH_MDY[\"IJH\"][1:]) / np.array(IJH_MDY[\"IJH\"][:-1]) -1\n",
    "MDY_r = np.array(IJH_MDY[\"MDY\"][1:]) / np.array(IJH_MDY[\"MDY\"][:-1]) -1\n",
    "d = {'Date': IJH_MDY['Date'][1:], 'IJH': IJH_r, 'MDY': MDY_r}\n",
    "# The return on time t is calculated by p_t/p_(t-1), i.e. the close price on t divided by the close price on t-1\n",
    "IJH_MDY_r = pd.DataFrame(data=d)\n",
    "# Write the return csv to path\n",
    "IJH_MDY_r.to_csv(os.path.join(path,r'IJH_MDY_r.csv'))\n",
    "IJH_MDY_r.head()"
   ]
  },
  {
   "cell_type": "code",
   "execution_count": 727,
   "id": "5e6e651a",
   "metadata": {},
   "outputs": [
    {
     "data": {
      "text/html": [
       "<div>\n",
       "<style scoped>\n",
       "    .dataframe tbody tr th:only-of-type {\n",
       "        vertical-align: middle;\n",
       "    }\n",
       "\n",
       "    .dataframe tbody tr th {\n",
       "        vertical-align: top;\n",
       "    }\n",
       "\n",
       "    .dataframe thead th {\n",
       "        text-align: right;\n",
       "    }\n",
       "</style>\n",
       "<table border=\"1\" class=\"dataframe\">\n",
       "  <thead>\n",
       "    <tr style=\"text-align: right;\">\n",
       "      <th></th>\n",
       "      <th>Date</th>\n",
       "      <th>SPY</th>\n",
       "      <th>VTI</th>\n",
       "    </tr>\n",
       "  </thead>\n",
       "  <tbody>\n",
       "    <tr>\n",
       "      <th>1</th>\n",
       "      <td>2001-08-21</td>\n",
       "      <td>-0.017059</td>\n",
       "      <td>-0.013967</td>\n",
       "    </tr>\n",
       "    <tr>\n",
       "      <th>2</th>\n",
       "      <td>2001-08-22</td>\n",
       "      <td>0.010361</td>\n",
       "      <td>0.009254</td>\n",
       "    </tr>\n",
       "    <tr>\n",
       "      <th>3</th>\n",
       "      <td>2001-08-23</td>\n",
       "      <td>-0.003589</td>\n",
       "      <td>-0.001310</td>\n",
       "    </tr>\n",
       "    <tr>\n",
       "      <th>4</th>\n",
       "      <td>2001-08-24</td>\n",
       "      <td>0.020754</td>\n",
       "      <td>0.018269</td>\n",
       "    </tr>\n",
       "    <tr>\n",
       "      <th>5</th>\n",
       "      <td>2001-08-27</td>\n",
       "      <td>-0.005966</td>\n",
       "      <td>-0.003588</td>\n",
       "    </tr>\n",
       "  </tbody>\n",
       "</table>\n",
       "</div>"
      ],
      "text/plain": [
       "         Date       SPY       VTI\n",
       "1  2001-08-21 -0.017059 -0.013967\n",
       "2  2001-08-22  0.010361  0.009254\n",
       "3  2001-08-23 -0.003589 -0.001310\n",
       "4  2001-08-24  0.020754  0.018269\n",
       "5  2001-08-27 -0.005966 -0.003588"
      ]
     },
     "execution_count": 727,
     "metadata": {},
     "output_type": "execute_result"
    }
   ],
   "source": [
    "# Create Return Dataframe for SPY-VTI\n",
    "SPY_VTI = SPY[[\"Date\", \"Adj Close_x\",\"Adj Close_y\"]]\n",
    "SPY_VTI = SPY_VTI.rename({\"Adj Close_x\": \"SPY\", \"Adj Close_y\": \"VTI\"}, axis = 'columns')\n",
    "SPY_r = np.array(SPY_VTI[\"SPY\"][1:]) / np.array(SPY_VTI[\"SPY\"][:-1]) -1\n",
    "VTI_r = np.array(SPY_VTI[\"VTI\"][1:]) / np.array(SPY_VTI[\"VTI\"][:-1]) -1\n",
    "\n",
    "d = {'Date': SPY_VTI['Date'][1:], 'SPY': SPY_r, 'VTI': VTI_r}\n",
    "# The return on time t is calculated by p_t/p_(t-1), i.e. the close price on t divided by the close price on t-1\n",
    "SPY_VTI_r = pd.DataFrame(data=d)\n",
    "# Write the return csv to path\n",
    "SPY_VTI_r.to_csv(os.path.join(path,r'SPY_VTI_r.csv'))\n",
    "SPY_VTI_r.head()"
   ]
  },
  {
   "cell_type": "code",
   "execution_count": 728,
   "id": "ebc0e232",
   "metadata": {},
   "outputs": [
    {
     "data": {
      "text/plain": [
       "5408"
      ]
     },
     "execution_count": 728,
     "metadata": {},
     "output_type": "execute_result"
    }
   ],
   "source": [
    "len(SPY_VTI_r)"
   ]
  },
  {
   "cell_type": "code",
   "execution_count": 9,
   "id": "b55cca66",
   "metadata": {},
   "outputs": [],
   "source": [
    "def train_test_split(df, split_ratio):\n",
    "    cutoff = int(len(df)*split_ratio)\n",
    "    train = df[:cutoff]\n",
    "    test = df[cutoff:]\n",
    "    return train, test"
   ]
  },
  {
   "cell_type": "code",
   "execution_count": 462,
   "id": "63dedda5",
   "metadata": {},
   "outputs": [],
   "source": [
    "# Train-test split 90:10 for IJH-MDY\n",
    "split_ratio = 0.9\n",
    "IJH_MDY_train, IJH_MDY_test = train_test_split(IJH_MDY_r, split_ratio)\n",
    "# Write sets to csv\n",
    "IJH_MDY_train.to_csv(os.path.join(path,r'IJH_MDY_train.csv'))\n",
    "IJH_MDY_test.to_csv(os.path.join(path,r'IJH_MDY_test.csv'))"
   ]
  },
  {
   "cell_type": "code",
   "execution_count": 11,
   "id": "7336d0a9",
   "metadata": {},
   "outputs": [
    {
     "data": {
      "text/html": [
       "<div>\n",
       "<style scoped>\n",
       "    .dataframe tbody tr th:only-of-type {\n",
       "        vertical-align: middle;\n",
       "    }\n",
       "\n",
       "    .dataframe tbody tr th {\n",
       "        vertical-align: top;\n",
       "    }\n",
       "\n",
       "    .dataframe thead th {\n",
       "        text-align: right;\n",
       "    }\n",
       "</style>\n",
       "<table border=\"1\" class=\"dataframe\">\n",
       "  <thead>\n",
       "    <tr style=\"text-align: right;\">\n",
       "      <th></th>\n",
       "      <th>Date</th>\n",
       "      <th>IJH</th>\n",
       "      <th>MDY</th>\n",
       "    </tr>\n",
       "  </thead>\n",
       "  <tbody>\n",
       "    <tr>\n",
       "      <th>4543</th>\n",
       "      <td>2018-08-10</td>\n",
       "      <td>-0.005637</td>\n",
       "      <td>-0.005665</td>\n",
       "    </tr>\n",
       "    <tr>\n",
       "      <th>4544</th>\n",
       "      <td>2018-08-13</td>\n",
       "      <td>-0.005217</td>\n",
       "      <td>-0.005092</td>\n",
       "    </tr>\n",
       "  </tbody>\n",
       "</table>\n",
       "</div>"
      ],
      "text/plain": [
       "            Date       IJH       MDY\n",
       "4543  2018-08-10 -0.005637 -0.005665\n",
       "4544  2018-08-13 -0.005217 -0.005092"
      ]
     },
     "execution_count": 11,
     "metadata": {},
     "output_type": "execute_result"
    }
   ],
   "source": [
    "IJH_MDY_train.tail(2)"
   ]
  },
  {
   "cell_type": "code",
   "execution_count": 12,
   "id": "c4a701ac",
   "metadata": {},
   "outputs": [
    {
     "data": {
      "text/html": [
       "<div>\n",
       "<style scoped>\n",
       "    .dataframe tbody tr th:only-of-type {\n",
       "        vertical-align: middle;\n",
       "    }\n",
       "\n",
       "    .dataframe tbody tr th {\n",
       "        vertical-align: top;\n",
       "    }\n",
       "\n",
       "    .dataframe thead th {\n",
       "        text-align: right;\n",
       "    }\n",
       "</style>\n",
       "<table border=\"1\" class=\"dataframe\">\n",
       "  <thead>\n",
       "    <tr style=\"text-align: right;\">\n",
       "      <th></th>\n",
       "      <th>Date</th>\n",
       "      <th>IJH</th>\n",
       "      <th>MDY</th>\n",
       "    </tr>\n",
       "  </thead>\n",
       "  <tbody>\n",
       "    <tr>\n",
       "      <th>4545</th>\n",
       "      <td>2018-08-14</td>\n",
       "      <td>0.009228</td>\n",
       "      <td>0.009241</td>\n",
       "    </tr>\n",
       "    <tr>\n",
       "      <th>4546</th>\n",
       "      <td>2018-08-15</td>\n",
       "      <td>-0.009144</td>\n",
       "      <td>-0.009348</td>\n",
       "    </tr>\n",
       "  </tbody>\n",
       "</table>\n",
       "</div>"
      ],
      "text/plain": [
       "            Date       IJH       MDY\n",
       "4545  2018-08-14  0.009228  0.009241\n",
       "4546  2018-08-15 -0.009144 -0.009348"
      ]
     },
     "execution_count": 12,
     "metadata": {},
     "output_type": "execute_result"
    }
   ],
   "source": [
    "IJH_MDY_test.head(2)"
   ]
  },
  {
   "cell_type": "markdown",
   "id": "93e8c77b",
   "metadata": {},
   "source": [
    "## Estimate hedge ratio with Volatility Proxy"
   ]
  },
  {
   "cell_type": "code",
   "execution_count": 581,
   "id": "4b8a017d",
   "metadata": {},
   "outputs": [],
   "source": [
    "def daily_volproxy_estimation(df, indx):\n",
    "    \n",
    "    pred_df = pd.DataFrame()\n",
    "    \n",
    "    y = df[indx].values\n",
    "    x = df[indx].values\n",
    "    y = y[1:]\n",
    "    x = x[:-1]\n",
    "    x = x.reshape((-1,1))\n",
    "\n",
    "    model = LinearRegression()\n",
    "    reg = model.fit(x, y)\n",
    "    beta = reg.coef_\n",
    "    y_pred = model.predict(x)\n",
    "    \n",
    "    pred_df = pd.DataFrame(y_pred,columns = [indx])\n",
    "    return pred_df"
   ]
  },
  {
   "cell_type": "code",
   "execution_count": 708,
   "id": "6fd5e751",
   "metadata": {},
   "outputs": [
    {
     "data": {
      "text/html": [
       "<div>\n",
       "<style scoped>\n",
       "    .dataframe tbody tr th:only-of-type {\n",
       "        vertical-align: middle;\n",
       "    }\n",
       "\n",
       "    .dataframe tbody tr th {\n",
       "        vertical-align: top;\n",
       "    }\n",
       "\n",
       "    .dataframe thead th {\n",
       "        text-align: right;\n",
       "    }\n",
       "</style>\n",
       "<table border=\"1\" class=\"dataframe\">\n",
       "  <thead>\n",
       "    <tr style=\"text-align: right;\">\n",
       "      <th></th>\n",
       "      <th>IJH to MDY</th>\n",
       "    </tr>\n",
       "  </thead>\n",
       "  <tbody>\n",
       "    <tr>\n",
       "      <th>0</th>\n",
       "      <td>0.877086</td>\n",
       "    </tr>\n",
       "    <tr>\n",
       "      <th>1</th>\n",
       "      <td>0.679959</td>\n",
       "    </tr>\n",
       "    <tr>\n",
       "      <th>2</th>\n",
       "      <td>0.801322</td>\n",
       "    </tr>\n",
       "    <tr>\n",
       "      <th>3</th>\n",
       "      <td>0.973289</td>\n",
       "    </tr>\n",
       "    <tr>\n",
       "      <th>4</th>\n",
       "      <td>0.790156</td>\n",
       "    </tr>\n",
       "    <tr>\n",
       "      <th>...</th>\n",
       "      <td>...</td>\n",
       "    </tr>\n",
       "    <tr>\n",
       "      <th>5676</th>\n",
       "      <td>1.149909</td>\n",
       "    </tr>\n",
       "    <tr>\n",
       "      <th>5677</th>\n",
       "      <td>0.979149</td>\n",
       "    </tr>\n",
       "    <tr>\n",
       "      <th>5678</th>\n",
       "      <td>0.936219</td>\n",
       "    </tr>\n",
       "    <tr>\n",
       "      <th>5679</th>\n",
       "      <td>0.998877</td>\n",
       "    </tr>\n",
       "    <tr>\n",
       "      <th>5680</th>\n",
       "      <td>0.947984</td>\n",
       "    </tr>\n",
       "  </tbody>\n",
       "</table>\n",
       "<p>5681 rows × 1 columns</p>\n",
       "</div>"
      ],
      "text/plain": [
       "      IJH to MDY\n",
       "0       0.877086\n",
       "1       0.679959\n",
       "2       0.801322\n",
       "3       0.973289\n",
       "4       0.790156\n",
       "...          ...\n",
       "5676    1.149909\n",
       "5677    0.979149\n",
       "5678    0.936219\n",
       "5679    0.998877\n",
       "5680    0.947984\n",
       "\n",
       "[5681 rows x 1 columns]"
      ]
     },
     "execution_count": 708,
     "metadata": {},
     "output_type": "execute_result"
    }
   ],
   "source": [
    "# Volatility proxy hedge ratio for IJH-MDY\n",
    "pred_daily_vol_df = pd.DataFrame()\n",
    "pred_daily_vol_df['IJH'] = daily_volproxy_estimation(uni_daily_range, 'IJH')\n",
    "pred_daily_vol_df['MDY'] = daily_volproxy_estimation(uni_daily_range, 'MDY')\n",
    "\n",
    "corr_vector = [1,1]\n",
    "for k in pred_daily_vol_df.index.tolist()[2:]:\n",
    "    corr = np.corrcoef(IJH_MDY_train['IJH'][:k], IJH_MDY_train['MDY'][:k])[0,1]\n",
    "    corr_vector.append(corr)\n",
    "corr_df = pd.DataFrame(corr_vector)\n",
    "\n",
    "hedge_volproxy_df = pd.DataFrame()\n",
    "# coefficient = std(y)/std(x)*corr(x,y)\n",
    "hedge_volproxy_df[f\"{'IJH'} to {'MDY'}\"] = corr_df.iloc[:,0] * pred_daily_vol_df['IJH']/pred_daily_vol_df['MDY']\n",
    "hedge_volproxy_df"
   ]
  },
  {
   "cell_type": "code",
   "execution_count": 738,
   "id": "ed7ef089",
   "metadata": {},
   "outputs": [
    {
     "data": {
      "text/html": [
       "<div>\n",
       "<style scoped>\n",
       "    .dataframe tbody tr th:only-of-type {\n",
       "        vertical-align: middle;\n",
       "    }\n",
       "\n",
       "    .dataframe tbody tr th {\n",
       "        vertical-align: top;\n",
       "    }\n",
       "\n",
       "    .dataframe thead th {\n",
       "        text-align: right;\n",
       "    }\n",
       "</style>\n",
       "<table border=\"1\" class=\"dataframe\">\n",
       "  <thead>\n",
       "    <tr style=\"text-align: right;\">\n",
       "      <th></th>\n",
       "      <th>SPY to VTI</th>\n",
       "    </tr>\n",
       "  </thead>\n",
       "  <tbody>\n",
       "    <tr>\n",
       "      <th>0</th>\n",
       "      <td>1.142451</td>\n",
       "    </tr>\n",
       "    <tr>\n",
       "      <th>1</th>\n",
       "      <td>1.233457</td>\n",
       "    </tr>\n",
       "    <tr>\n",
       "      <th>2</th>\n",
       "      <td>1.064474</td>\n",
       "    </tr>\n",
       "    <tr>\n",
       "      <th>3</th>\n",
       "      <td>1.021130</td>\n",
       "    </tr>\n",
       "    <tr>\n",
       "      <th>4</th>\n",
       "      <td>1.245351</td>\n",
       "    </tr>\n",
       "    <tr>\n",
       "      <th>...</th>\n",
       "      <td>...</td>\n",
       "    </tr>\n",
       "    <tr>\n",
       "      <th>5403</th>\n",
       "      <td>0.880234</td>\n",
       "    </tr>\n",
       "    <tr>\n",
       "      <th>5404</th>\n",
       "      <td>0.948265</td>\n",
       "    </tr>\n",
       "    <tr>\n",
       "      <th>5405</th>\n",
       "      <td>1.059334</td>\n",
       "    </tr>\n",
       "    <tr>\n",
       "      <th>5406</th>\n",
       "      <td>0.936246</td>\n",
       "    </tr>\n",
       "    <tr>\n",
       "      <th>5407</th>\n",
       "      <td>0.959142</td>\n",
       "    </tr>\n",
       "  </tbody>\n",
       "</table>\n",
       "<p>5408 rows × 1 columns</p>\n",
       "</div>"
      ],
      "text/plain": [
       "      SPY to VTI\n",
       "0       1.142451\n",
       "1       1.233457\n",
       "2       1.064474\n",
       "3       1.021130\n",
       "4       1.245351\n",
       "...          ...\n",
       "5403    0.880234\n",
       "5404    0.948265\n",
       "5405    1.059334\n",
       "5406    0.936246\n",
       "5407    0.959142\n",
       "\n",
       "[5408 rows x 1 columns]"
      ]
     },
     "execution_count": 738,
     "metadata": {},
     "output_type": "execute_result"
    }
   ],
   "source": [
    "# Valatility proxy for SPY-VTI\n",
    "pred_daily_vol_df = pd.DataFrame()\n",
    "pred_daily_vol_df['SPY'] = daily_volproxy_estimation(sv_daily_range, 'SPY')\n",
    "pred_daily_vol_df['VTI'] = daily_volproxy_estimation(sv_daily_range, 'VTI')\n",
    "\n",
    "corr_vector = [1,1]\n",
    "for k in pred_daily_vol_df.index.tolist()[2:]:\n",
    "    corr = np.corrcoef(SPY_VTI_train['SPY'][:k], SPY_VTI_train['VTI'][:k])[0,1]\n",
    "    corr_vector.append(corr)\n",
    "corr_df = pd.DataFrame(corr_vector)\n",
    "\n",
    "sv_hedge_volproxy_df = pd.DataFrame()\n",
    "# coefficient = std(y)/std(x)*corr(x,y)\n",
    "sv_hedge_volproxy_df[f\"{'SPY'} to {'VTI'}\"] = corr_df.iloc[:,0] * pred_daily_vol_df['SPY']/pred_daily_vol_df['VTI']\n",
    "sv_hedge_volproxy_df"
   ]
  },
  {
   "cell_type": "markdown",
   "id": "ba3c30d4",
   "metadata": {},
   "source": [
    "## Estimate hedge ratio with Kalman Filter "
   ]
  },
  {
   "cell_type": "code",
   "execution_count": 13,
   "id": "eb5121b1",
   "metadata": {},
   "outputs": [],
   "source": [
    "# Hedge ratio Calculation\n",
    "def calc_slope_intercept_kalman(df, etfs):\n",
    "    \"\"\"\n",
    "    Utilise the Kalman Filter from the pyKalman package\n",
    "    to calculate the slope and intercept of the regressed\n",
    "    ETF prices.\n",
    "    \"\"\"\n",
    "    delta = 1e-5\n",
    "    trans_cov = delta / (1 - delta) * np.eye(2)\n",
    "    # X_t\n",
    "    obs_mat = np.vstack([df[etfs[0]] , np.ones(df[etfs[0]].shape)]).T[:, np.newaxis] \n",
    "    \n",
    "    kf = KalmanFilter(\n",
    "        n_dim_obs=1, \n",
    "        n_dim_state=2,\n",
    "        initial_state_mean=np.zeros(2),\n",
    "        initial_state_covariance=np.ones((2, 2)),\n",
    "        transition_matrices=np.eye(2),\n",
    "        observation_matrices=obs_mat,\n",
    "        observation_covariance=1.0,\n",
    "        transition_covariance=trans_cov\n",
    "    )\n",
    "    \n",
    "    state_means, state_covs = kf.filter(df[etfs[1]])\n",
    "    return state_means, state_covs"
   ]
  },
  {
   "cell_type": "code",
   "execution_count": 463,
   "id": "f7e175a5",
   "metadata": {},
   "outputs": [],
   "source": [
    "# Kalman filter hedge ratio for IJH-MDY\n",
    "\n",
    "# Convert the returns in terms of percentage\n",
    "temp = IJH_MDY_train[[\"IJH\", \"MDY\"]] * 100\n",
    "# Calculate hedge ratio\n",
    "pair_delta, pair_cov = calc_slope_intercept_kalman(temp, [\"IJH\", \"MDY\"])"
   ]
  },
  {
   "cell_type": "code",
   "execution_count": 748,
   "id": "901554a4",
   "metadata": {},
   "outputs": [],
   "source": [
    "# Kalman filter hedge ratio for SPY-VTI\n",
    "temp = SPY_VTI_r[[\"SPY\", \"VTI\"]] * 100\n",
    "sv_pair_dalta, sv_pari_cov = calc_slope_intercept_kalman(temp, [\"SPY\", \"VTI\"])"
   ]
  },
  {
   "cell_type": "code",
   "execution_count": 15,
   "id": "0e0c62d9",
   "metadata": {},
   "outputs": [],
   "source": [
    "def draw_slope_intercept_changes(df, state_means):\n",
    "    \"\"\"\n",
    "    Plot the slope and intercept changes from the \n",
    "    Kalman Filte calculated values.\n",
    "    \"\"\"\n",
    "    pd.DataFrame(\n",
    "        dict(\n",
    "            slope=state_means[:, 0], \n",
    "            intercept=state_means[:, 1]\n",
    "        ), index=df.index\n",
    "    ).plot(subplots=True)\n",
    "    plt.show()"
   ]
  },
  {
   "cell_type": "code",
   "execution_count": 464,
   "id": "a1f8de81",
   "metadata": {},
   "outputs": [
    {
     "data": {
      "image/png": "[encoded data removed]",
      "text/plain": [
       "<Figure size 576x432 with 2 Axes>"
      ]
     },
     "metadata": {
      "needs_background": "light"
     },
     "output_type": "display_data"
    }
   ],
   "source": [
    "draw_slope_intercept_changes(IJH_MDY_train, pair_delta)"
   ]
  },
  {
   "cell_type": "code",
   "execution_count": 467,
   "id": "829ae8d0",
   "metadata": {},
   "outputs": [
    {
     "data": {
      "text/plain": [
       "5112"
      ]
     },
     "execution_count": 467,
     "metadata": {},
     "output_type": "execute_result"
    }
   ],
   "source": [
    "#First element is the slope, get the hedge ratio as an array\n",
    "hedge_ratio = pair_delta[:,0]\n",
    "len(hedge_ratio)"
   ]
  },
  {
   "cell_type": "markdown",
   "id": "61c1995d",
   "metadata": {},
   "source": [
    "## Define Functions for return and win rate computation "
   ]
  },
  {
   "cell_type": "code",
   "execution_count": 503,
   "id": "f88b2e15",
   "metadata": {},
   "outputs": [],
   "source": [
    "def calc_return(r, pos, tags):\n",
    "    # r and pos should be dataframes. tags should be a list that contains 2 tag names\n",
    "    # r should contain columns of asset returns. \n",
    "    # pos should contain 4 columns of positions first 2 columns will be combo of positions and the next 2 columns will \n",
    "    # be another combo of positions.The column names must be L1S2_1, L1S2_2, L2S1_1, L2S1_2\n",
    "    \n",
    "    # drop the last position as there isn't a return after the last day\n",
    "    p1 = pos[[\"L1S2_1\", \"L1S2_2\"]]\n",
    "    p1 = p1[:-1]\n",
    "    p2 = pos[[\"L2S1_1\", \"L2S1_2\"]]\n",
    "    p2 = p2[:-1] \n",
    "    # drop the first row of returns as there is no position for the first day\n",
    "    returns = np.array([r[tags[0]], r[tags[1]]]).T\n",
    "    returns = returns[1:,] \n",
    "    \n",
    "    # Get total returns\n",
    "    returns1 = np.dot(returns, p1.to_numpy().T)\n",
    "    returns2 = np.dot(returns, p2.to_numpy().T)\n",
    "    \n",
    "    tol_r = (returns1.diagonal().sum() + returns2.diagonal().sum())*100\n",
    "    #print(\"Total return = %0.3f\" %tol_r + \"%\")\n",
    "    \n",
    "    return tol_r"
   ]
  },
  {
   "cell_type": "code",
   "execution_count": 381,
   "id": "07b81d73",
   "metadata": {},
   "outputs": [],
   "source": [
    "def calc_winrate(r, pos, tags):\n",
    "    # drop the last row as there isn't a return after the last day\n",
    "    p1 = pos[[\"L1S2_1\", \"L1S2_2\"]]\n",
    "    p1 = p1[:-1]\n",
    "    p2 = pos[[\"L2S1_1\", \"L2S1_2\"]]\n",
    "    p2 = p2[:-1] \n",
    "    # drop the first row of returns as there is no position for the first day\n",
    "    returns = np.array([r[tags[0]], r[tags[1]]]).T\n",
    "    returns = returns[1:,] \n",
    "    \n",
    "    # Get total returns\n",
    "    returns1 = np.dot(returns, p1.to_numpy().T)\n",
    "    returns2 = np.dot(returns, p2.to_numpy().T)\n",
    "    \n",
    "    tol_try = abs(p1[\"L1S2_2\"].sum()) + abs(p2[\"L2S1_2\"].sum())\n",
    "    wins_df = pd.DataFrame()\n",
    "    wins_df[\"1\"] = returns1.diagonal()\n",
    "    wins_df[\"2\"] = returns2.diagonal()\n",
    "    wins_df[\"ifWin\"] = np.where((wins_df[\"1\"]>0) | (wins_df[\"2\"]>0), 1, 0)\n",
    "    \n",
    "    winRate = float(wins_df[\"ifWin\"].sum()/tol_try)*100\n",
    "    #print(\"Win Rate = %0.3f\" %winRate + \"%\")\n",
    "    return winRate"
   ]
  },
  {
   "cell_type": "markdown",
   "id": "3a95e407",
   "metadata": {},
   "source": [
    "## Performance with differnt thresholds"
   ]
  },
  {
   "cell_type": "code",
   "execution_count": 563,
   "id": "c261042e",
   "metadata": {},
   "outputs": [],
   "source": [
    "thresholds = np.arange(0.01, 0.5, 0.01).tolist()"
   ]
  },
  {
   "cell_type": "code",
   "execution_count": 329,
   "id": "53a4a06b",
   "metadata": {},
   "outputs": [
    {
     "data": {
      "text/plain": [
       "True"
      ]
     },
     "execution_count": 329,
     "metadata": {},
     "output_type": "execute_result"
    }
   ],
   "source": [
    "len(hedge_ratio) == len(prob)"
   ]
  },
  {
   "cell_type": "code",
   "execution_count": 649,
   "id": "35b01c75",
   "metadata": {},
   "outputs": [
    {
     "data": {
      "text/plain": [
       "569"
      ]
     },
     "execution_count": 649,
     "metadata": {},
     "output_type": "execute_result"
    }
   ],
   "source": [
    "len(hedge_volproxy_df[\"IJH to MDY\"]) - len(prob) "
   ]
  },
  {
   "cell_type": "code",
   "execution_count": 653,
   "id": "4f4610de",
   "metadata": {},
   "outputs": [],
   "source": [
    "hedge_volproxy = hedge_volproxy_df[\"IJH to MDY\"].tolist()"
   ]
  },
  {
   "cell_type": "code",
   "execution_count": 654,
   "id": "ca99f7e3",
   "metadata": {},
   "outputs": [],
   "source": [
    "hedge_volproxy = hedge_volproxy[:-569]"
   ]
  },
  {
   "cell_type": "code",
   "execution_count": 655,
   "id": "27e2bf8f",
   "metadata": {},
   "outputs": [
    {
     "data": {
      "text/plain": [
       "0"
      ]
     },
     "execution_count": 655,
     "metadata": {},
     "output_type": "execute_result"
    }
   ],
   "source": [
    "len(hedge_volproxy) - len(prob) "
   ]
  },
  {
   "cell_type": "code",
   "execution_count": 609,
   "id": "42cadf8e",
   "metadata": {},
   "outputs": [],
   "source": [
    "# Estabilish Positions for the trainning set of IJH-MDY using Volatility proxy hedge ratio\n",
    "tol_rs = []\n",
    "winRates = []\n",
    "for threshold in thresholds:\n",
    "    lo = threshold\n",
    "    hi = 1-lo\n",
    "    tags = [\"IJH\", \"MDY\"]\n",
    "    pos = pd.DataFrame()\n",
    "    pos['L1S2_1'] = np.zeros(len(hedge_volproxy))\n",
    "    pos['L1S2_2'] = np.zeros(len(hedge_volproxy))\n",
    "    pos['L2S1_1'] = np.zeros(len(hedge_volproxy))\n",
    "    pos['L2S1_2'] = np.zeros(len(hedge_volproxy))\n",
    "    \n",
    "    for i in range(1, len(pos)):\n",
    "        if(prob['hfunc2'].tolist()[i] <= lo and prob['hfunc1'].tolist()[i] >= hi and pos['L2S1_2'].tolist()[i-1] <= 0):\n",
    "            pos.iloc[i,0] = 1\n",
    "            pos.iloc[i,1] = -hedge_volproxy[i]\n",
    "    \n",
    "        if(prob['hfunc1'].tolist()[i] <= lo and prob['hfunc2'].tolist()[i] >= hi and pos['L1S2_1'].tolist()[i-1] >= 0):\n",
    "            pos.iloc[i,2] = -1\n",
    "            pos.iloc[i,3] = hedge_volproxy[i]\n",
    "    \n",
    "    tol_rs.append(calc_return(IJH_MDY_train[:-1], pos, tags))\n",
    "    winRates.append(calc_winrate(IJH_MDY_train[:-1], pos, tags))"
   ]
  },
  {
   "cell_type": "code",
   "execution_count": 624,
   "id": "0249b0d6",
   "metadata": {},
   "outputs": [
    {
     "data": {
      "image/png": "[encoded data removed]",
      "text/plain": [
       "<Figure size 1008x288 with 3 Axes>"
      ]
     },
     "metadata": {
      "needs_background": "light"
     },
     "output_type": "display_data"
    }
   ],
   "source": [
    "# Plot 3 graphs for performance analyzing\n",
    "plt.rcParams[\"figure.figsize\"] = [14, 4]\n",
    "plt.rcParams[\"figure.autolayout\"] = True\n",
    "\n",
    "fig, (ax1, ax2, ax3) = plt.subplots(1, 3)\n",
    "\n",
    "ax1.plot(thresholds, tol_rs, 'tab:blue')\n",
    "ax1.set(xlabel = \"Threshold\", ylabel=\"Total Return(%)\")\n",
    "ax1.set_title(\"Return vs. Threshold\")\n",
    "\n",
    "ax2.plot(thresholds, winRates, 'tab:blue')\n",
    "ax2.set(xlabel = \"Threshold\", ylabel=\"Win Rate (%)\")\n",
    "ax2.set_title(\"Win Rate vs. Threshold\")\n",
    "scores = np.multiply(np.array(tol_rs), np.array(winRates))/10000\n",
    "\n",
    "ax3.plot(thresholds, scores)\n",
    "ax3.axhline(y = max(scores), color = 'r', linestyle = '--')\n",
    "ax3.text(x = 0.52, y=max(scores)+0.005, s = str(round(max(scores),3)))\n",
    "best_threshold = thresholds[list(scores).index(max(scores))]\n",
    "ax3.text(x = best_threshold-0.06, y=0.125, s = round(best_threshold,3))\n",
    "ax3.axvline(x = best_threshold, color = 'r', linestyle='--')\n",
    "\n",
    "temp = scores.copy()\n",
    "temp.sort()\n",
    "second_max = temp[-2]\n",
    "second_threshold = thresholds[list(scores).index(second_max)]\n",
    "ax3.axhline(y = second_max, color = 'g', linestyle = '--')\n",
    "ax3.text(x = 0.52, y=second_max-0.008, s = str(round(second_max,3)))\n",
    "ax3.axvline(x = thresholds[list(scores).index(second_max)], color = 'g', linestyle='--')\n",
    "ax3.text(x = second_threshold+0.01, y=0.125, s = round(second_threshold,3))\n",
    "ax3.set(ylabel=\"Win Rate x Return\")\n",
    "ax3.set_title(\"Win Rate x Return vs. Threshold\")\n",
    "\n",
    "plt.show()"
   ]
  },
  {
   "cell_type": "code",
   "execution_count": 504,
   "id": "05a55b5a",
   "metadata": {},
   "outputs": [
    {
     "data": {
      "text/plain": [
       "5112"
      ]
     },
     "execution_count": 504,
     "metadata": {},
     "output_type": "execute_result"
    }
   ],
   "source": [
    "prob = pd.read_csv(path + \"IJH_MDY_cop.csv\")\n",
    "prob = prob.set_index(IJH_MDY_train[\"Date\"])\n",
    "len(prob)"
   ]
  },
  {
   "cell_type": "code",
   "execution_count": null,
   "id": "0ee8353c",
   "metadata": {},
   "outputs": [],
   "source": [
    "hedge_ratio = pair_delta[:,0]"
   ]
  },
  {
   "cell_type": "code",
   "execution_count": 658,
   "id": "e08f395e",
   "metadata": {},
   "outputs": [],
   "source": [
    "# Establish position of IJH-MDY using Kalman Filter Hedge ratio\n",
    "tol_rs = []\n",
    "winRates = []\n",
    "for threshold in thresholds:\n",
    "    lo = threshold\n",
    "    hi = 1-lo\n",
    "    exit = 0.5\n",
    "    tags = [\"IJH\", \"MDY\"]\n",
    "    pos = pd.DataFrame()\n",
    "    pos['L1S2_1'] = np.zeros(len(hedge_ratio))\n",
    "    pos['L1S2_2'] = np.zeros(len(hedge_ratio))\n",
    "    pos['L2S1_1'] = np.zeros(len(hedge_ratio))\n",
    "    pos['L2S1_2'] = np.zeros(len(hedge_ratio))\n",
    "    \n",
    "    # Establish position\n",
    "    for i in range(1, len(pos)):\n",
    "        if(prob['hfunc2'].tolist()[i] <= lo and prob['hfunc1'].tolist()[i] >= hi and pos['L2S1_2'].tolist()[i-1] != 1):\n",
    "            pos.iloc[i,0] = hedge_ratio[i]\n",
    "            pos.iloc[i,1] = -1 \n",
    "    \n",
    "        if(prob['hfunc1'].tolist()[i] <= lo and prob['hfunc2'].tolist()[i] >= hi and pos['L1S2_1'].tolist()[i-1] != -1):\n",
    "            pos.iloc[i,2] = -hedge_ratio[i]\n",
    "            pos.iloc[i,3] = 1\n",
    "    \n",
    "    \n",
    "    \n",
    "    tol_rs.append(calc_return(IJH_MDY_train, pos, tags))\n",
    "    winRates.append(calc_winrate(IJH_MDY_train, pos, tags))"
   ]
  },
  {
   "cell_type": "code",
   "execution_count": 660,
   "id": "f2a65391",
   "metadata": {},
   "outputs": [
    {
     "data": {
      "image/png": "[encoded data removed]",
      "text/plain": [
       "<Figure size 1008x288 with 3 Axes>"
      ]
     },
     "metadata": {
      "needs_background": "light"
     },
     "output_type": "display_data"
    }
   ],
   "source": [
    "plt.rcParams[\"figure.figsize\"] = [14, 4]\n",
    "plt.rcParams[\"figure.autolayout\"] = True\n",
    "\n",
    "fig, (ax1, ax2, ax3) = plt.subplots(1, 3)\n",
    "\n",
    "ax1.plot(thresholds, tol_rs, 'tab:blue')\n",
    "ax1.set(ylabel=\"Total Return(%)\")\n",
    "ax1.set_title(\"Return vs. Threshold\")\n",
    "\n",
    "ax2.plot(thresholds, winRates, 'tab:blue')\n",
    "ax2.set(xlabel = \"Threshold\", ylabel=\"Win Rate (%)\")\n",
    "ax2.set_title(\"Win Rate vs. Threshold\")\n",
    "\n",
    "scores = np.multiply(np.array(tol_rs), np.array(winRates))/10000\n",
    "ax3.plot(thresholds, scores)\n",
    "ax3.axhline(y = max(scores), color = 'r', linestyle = '--')\n",
    "ax3.text(x = 0.52, y=max(scores)+0.001, s = str(round(max(scores),3)))\n",
    "best_threshold = thresholds[list(scores).index(max(scores))]\n",
    "ax3.text(x = best_threshold-0.05, y=0.125, s = round(best_threshold,3))\n",
    "ax3.axvline(x = best_threshold, color = 'r', linestyle='--')\n",
    "\n",
    "temp = scores.copy()\n",
    "temp.sort()\n",
    "second_max = temp[-2]\n",
    "second_threshold = thresholds[list(scores).index(second_max)]\n",
    "ax3.axhline(y = second_max, color = 'g', linestyle = '--')\n",
    "ax3.text(x = 0.52, y=second_max-0.004, s = str(round(second_max,3)))\n",
    "ax3.axvline(x = thresholds[list(scores).index(second_max)], color = 'g', linestyle='--')\n",
    "ax3.text(x = second_threshold+0.005, y=0.125, s = round(second_threshold,3))\n",
    "ax3.set(ylabel=\"Win Rate x Return\")\n",
    "ax3.set_title(\"Win Rate x Return vs. Threshold\")\n",
    "\n",
    "plt.show()"
   ]
  },
  {
   "cell_type": "code",
   "execution_count": 740,
   "id": "3d97fe83",
   "metadata": {},
   "outputs": [
    {
     "data": {
      "text/plain": [
       "5408"
      ]
     },
     "execution_count": 740,
     "metadata": {},
     "output_type": "execute_result"
    }
   ],
   "source": [
    "sv_hedge = sv_hedge_volproxy_df['SPY to VTI']\n",
    "len(sv_hedge)"
   ]
  },
  {
   "cell_type": "code",
   "execution_count": 741,
   "id": "819e3ff9",
   "metadata": {},
   "outputs": [
    {
     "data": {
      "text/plain": [
       "5408"
      ]
     },
     "execution_count": 741,
     "metadata": {},
     "output_type": "execute_result"
    }
   ],
   "source": [
    "sv_prob = pd.read_csv(path+'SPY_VTI_cop.csv')\n",
    "len(sv_prob)"
   ]
  },
  {
   "cell_type": "code",
   "execution_count": 751,
   "id": "9ab4f681",
   "metadata": {},
   "outputs": [
    {
     "data": {
      "text/plain": [
       "5408"
      ]
     },
     "execution_count": 751,
     "metadata": {},
     "output_type": "execute_result"
    }
   ],
   "source": [
    "len(sv_pair_dalta[:,0])"
   ]
  },
  {
   "cell_type": "code",
   "execution_count": 752,
   "id": "77230bb4",
   "metadata": {},
   "outputs": [],
   "source": [
    "sv_hedge = sv_pair_dalta[:,0]"
   ]
  },
  {
   "cell_type": "code",
   "execution_count": 753,
   "id": "64a02161",
   "metadata": {},
   "outputs": [],
   "source": [
    "# Establish position for SPY-VTI. *this part can be used twice, just change the sv_hedge to kalman ratio or vol proxy ratio\n",
    "tol_rs = []\n",
    "winRates = []\n",
    "for threshold in thresholds:\n",
    "    lo = threshold\n",
    "    hi = 1-lo\n",
    "    tags = [\"SPY\", \"VTI\"]\n",
    "    pos = pd.DataFrame()\n",
    "    pos['L1S2_1'] = np.zeros(len(sv_hedge)-1)\n",
    "    pos['L1S2_2'] = np.zeros(len(sv_hedge)-1)\n",
    "    pos['L2S1_1'] = np.zeros(len(sv_hedge)-1)\n",
    "    pos['L2S1_2'] = np.zeros(len(sv_hedge)-1)\n",
    "    \n",
    "    for i in range(1, len(pos)):\n",
    "        if(sv_prob['hfunc2'].tolist()[i] <= lo and sv_prob['hfunc1'].tolist()[i] >= hi and pos['L2S1_2'].tolist()[i-1] <= 0):\n",
    "            pos.iloc[i,0] = 1\n",
    "            pos.iloc[i,1] = -sv_hedge[i]\n",
    "    \n",
    "        if(sv_prob['hfunc1'].tolist()[i] <= lo and sv_prob['hfunc2'].tolist()[i] >= hi and pos['L1S2_1'].tolist()[i-1] >= 0):\n",
    "            pos.iloc[i,2] = -1\n",
    "            pos.iloc[i,3] = sv_hedge[i]\n",
    "    \n",
    "    tol_rs.append(calc_return(SPY_VTI_r[:-1], pos, tags))\n",
    "    winRates.append(calc_winrate(SPY_VTI_r[:-1], pos, tags))"
   ]
  },
  {
   "cell_type": "code",
   "execution_count": 756,
   "id": "3935341d",
   "metadata": {},
   "outputs": [
    {
     "data": {
      "image/png": "[encoded data removed]",
      "text/plain": [
       "<Figure size 1008x288 with 3 Axes>"
      ]
     },
     "metadata": {
      "needs_background": "light"
     },
     "output_type": "display_data"
    }
   ],
   "source": [
    "plt.rcParams[\"figure.figsize\"] = [14, 4]\n",
    "plt.rcParams[\"figure.autolayout\"] = True\n",
    "\n",
    "fig, (ax1, ax2, ax3) = plt.subplots(1, 3)\n",
    "\n",
    "ax1.plot(thresholds, tol_rs, 'tab:blue')\n",
    "ax1.set(ylabel=\"Total Return(%)\")\n",
    "ax1.set_title(\"Return vs. Threshold\")\n",
    "\n",
    "ax2.plot(thresholds, winRates, 'tab:blue')\n",
    "ax2.set(xlabel = \"Threshold\", ylabel=\"Win Rate (%)\")\n",
    "ax2.set_title(\"Win Rate vs. Threshold\")\n",
    "\n",
    "scores = np.multiply(np.array(tol_rs), np.array(winRates))/10000\n",
    "ax3.plot(thresholds, scores)\n",
    "ax3.axhline(y = max(scores), color = 'r', linestyle = '--')\n",
    "ax3.text(x = 0.52, y=max(scores)+0.001, s = str(round(max(scores),3)))\n",
    "best_threshold = thresholds[list(scores).index(max(scores))]\n",
    "ax3.text(x = best_threshold-0.05, y=0.125, s = round(best_threshold,3))\n",
    "ax3.axvline(x = best_threshold, color = 'r', linestyle='--')\n",
    "\n",
    "temp = scores.copy()\n",
    "temp.sort()\n",
    "second_max = temp[-2]\n",
    "second_threshold = thresholds[list(scores).index(second_max)]\n",
    "ax3.axhline(y = second_max, color = 'g', linestyle = '--')\n",
    "ax3.text(x = 0.52, y=second_max-0.006, s = str(round(second_max,3)))\n",
    "ax3.axvline(x = thresholds[list(scores).index(second_max)], color = 'g', linestyle='--')\n",
    "ax3.text(x = second_threshold+0.005, y=0.125, s = round(second_threshold,3))\n",
    "ax3.set(ylabel=\"Win Rate x Return\")\n",
    "ax3.set_title(\"Win Rate x Return vs. Threshold\")\n",
    "\n",
    "plt.show()"
   ]
  },
  {
   "cell_type": "markdown",
   "id": "7719d125",
   "metadata": {},
   "source": [
    "# Test set performance"
   ]
  },
  {
   "cell_type": "code",
   "execution_count": 625,
   "id": "3b643299",
   "metadata": {},
   "outputs": [],
   "source": [
    "test_prob = pd.read_csv(path + 'IJH_MDY_test_cop.csv')"
   ]
  },
  {
   "cell_type": "code",
   "execution_count": 626,
   "id": "c94c0fe7",
   "metadata": {},
   "outputs": [
    {
     "data": {
      "text/plain": [
       "5681"
      ]
     },
     "execution_count": 626,
     "metadata": {},
     "output_type": "execute_result"
    }
   ],
   "source": [
    "len(test_prob)"
   ]
  },
  {
   "cell_type": "code",
   "execution_count": 628,
   "id": "77f597f6",
   "metadata": {},
   "outputs": [
    {
     "data": {
      "text/html": [
       "<div>\n",
       "<style scoped>\n",
       "    .dataframe tbody tr th:only-of-type {\n",
       "        vertical-align: middle;\n",
       "    }\n",
       "\n",
       "    .dataframe tbody tr th {\n",
       "        vertical-align: top;\n",
       "    }\n",
       "\n",
       "    .dataframe thead th {\n",
       "        text-align: right;\n",
       "    }\n",
       "</style>\n",
       "<table border=\"1\" class=\"dataframe\">\n",
       "  <thead>\n",
       "    <tr style=\"text-align: right;\">\n",
       "      <th></th>\n",
       "      <th>Unnamed: 0</th>\n",
       "      <th>hfunc1</th>\n",
       "      <th>hfunc2</th>\n",
       "    </tr>\n",
       "    <tr>\n",
       "      <th>Date</th>\n",
       "      <th></th>\n",
       "      <th></th>\n",
       "      <th></th>\n",
       "    </tr>\n",
       "  </thead>\n",
       "  <tbody>\n",
       "    <tr>\n",
       "      <th>2020-11-11</th>\n",
       "      <td>5111</td>\n",
       "      <td>0.386083</td>\n",
       "      <td>0.528447</td>\n",
       "    </tr>\n",
       "    <tr>\n",
       "      <th>2020-11-12</th>\n",
       "      <td>5112</td>\n",
       "      <td>0.441731</td>\n",
       "      <td>0.536612</td>\n",
       "    </tr>\n",
       "  </tbody>\n",
       "</table>\n",
       "</div>"
      ],
      "text/plain": [
       "            Unnamed: 0    hfunc1    hfunc2\n",
       "Date                                      \n",
       "2020-11-11        5111  0.386083  0.528447\n",
       "2020-11-12        5112  0.441731  0.536612"
      ]
     },
     "execution_count": 628,
     "metadata": {},
     "output_type": "execute_result"
    }
   ],
   "source": [
    "prob.tail(2)"
   ]
  },
  {
   "cell_type": "code",
   "execution_count": 629,
   "id": "5981d537",
   "metadata": {},
   "outputs": [
    {
     "data": {
      "text/html": [
       "<div>\n",
       "<style scoped>\n",
       "    .dataframe tbody tr th:only-of-type {\n",
       "        vertical-align: middle;\n",
       "    }\n",
       "\n",
       "    .dataframe tbody tr th {\n",
       "        vertical-align: top;\n",
       "    }\n",
       "\n",
       "    .dataframe thead th {\n",
       "        text-align: right;\n",
       "    }\n",
       "</style>\n",
       "<table border=\"1\" class=\"dataframe\">\n",
       "  <thead>\n",
       "    <tr style=\"text-align: right;\">\n",
       "      <th></th>\n",
       "      <th>Unnamed: 0</th>\n",
       "      <th>hfunc1</th>\n",
       "      <th>hfunc2</th>\n",
       "    </tr>\n",
       "  </thead>\n",
       "  <tbody>\n",
       "    <tr>\n",
       "      <th>5112</th>\n",
       "      <td>5113</td>\n",
       "      <td>0.347784</td>\n",
       "      <td>0.722730</td>\n",
       "    </tr>\n",
       "    <tr>\n",
       "      <th>5113</th>\n",
       "      <td>5114</td>\n",
       "      <td>0.448895</td>\n",
       "      <td>0.625724</td>\n",
       "    </tr>\n",
       "  </tbody>\n",
       "</table>\n",
       "</div>"
      ],
      "text/plain": [
       "      Unnamed: 0    hfunc1    hfunc2\n",
       "5112        5113  0.347784  0.722730\n",
       "5113        5114  0.448895  0.625724"
      ]
     },
     "execution_count": 629,
     "metadata": {},
     "output_type": "execute_result"
    }
   ],
   "source": [
    "test_prob = test_prob[ -(len(test_prob) - len(prob)): ]\n",
    "test_prob.head(2)"
   ]
  },
  {
   "cell_type": "code",
   "execution_count": 630,
   "id": "0e36a303",
   "metadata": {},
   "outputs": [
    {
     "data": {
      "text/plain": [
       "5681"
      ]
     },
     "execution_count": 630,
     "metadata": {},
     "output_type": "execute_result"
    }
   ],
   "source": [
    "# Caclulate hedge ratio\n",
    "train = pd.read_csv(path + 'IJH_MDY_train.csv')\n",
    "test = pd.read_csv(path + 'IJH_MDY_test.csv')\n",
    "pair = train.append(test)\n",
    "len(pair)"
   ]
  },
  {
   "cell_type": "code",
   "execution_count": 478,
   "id": "992375b0",
   "metadata": {},
   "outputs": [
    {
     "data": {
      "text/html": [
       "<div>\n",
       "<style scoped>\n",
       "    .dataframe tbody tr th:only-of-type {\n",
       "        vertical-align: middle;\n",
       "    }\n",
       "\n",
       "    .dataframe tbody tr th {\n",
       "        vertical-align: top;\n",
       "    }\n",
       "\n",
       "    .dataframe thead th {\n",
       "        text-align: right;\n",
       "    }\n",
       "</style>\n",
       "<table border=\"1\" class=\"dataframe\">\n",
       "  <thead>\n",
       "    <tr style=\"text-align: right;\">\n",
       "      <th></th>\n",
       "      <th>Unnamed: 0</th>\n",
       "      <th>Date</th>\n",
       "      <th>IJH</th>\n",
       "      <th>MDY</th>\n",
       "    </tr>\n",
       "  </thead>\n",
       "  <tbody>\n",
       "    <tr>\n",
       "      <th>0</th>\n",
       "      <td>1</td>\n",
       "      <td>2000-07-21</td>\n",
       "      <td>-0.013281</td>\n",
       "      <td>-0.021249</td>\n",
       "    </tr>\n",
       "  </tbody>\n",
       "</table>\n",
       "</div>"
      ],
      "text/plain": [
       "   Unnamed: 0        Date       IJH       MDY\n",
       "0           1  2000-07-21 -0.013281 -0.021249"
      ]
     },
     "execution_count": 478,
     "metadata": {},
     "output_type": "execute_result"
    }
   ],
   "source": [
    "pair.head(1)"
   ]
  },
  {
   "cell_type": "code",
   "execution_count": 661,
   "id": "bf35cbef",
   "metadata": {},
   "outputs": [
    {
     "data": {
      "text/plain": [
       "569"
      ]
     },
     "execution_count": 661,
     "metadata": {},
     "output_type": "execute_result"
    }
   ],
   "source": [
    "len(test_prob)"
   ]
  },
  {
   "cell_type": "code",
   "execution_count": 480,
   "id": "c21a5a21",
   "metadata": {},
   "outputs": [],
   "source": [
    "# Convert the returns in terms of percentage\n",
    "temp = pair[[\"IJH\", \"MDY\"]] * 100\n",
    "# Calculate hedge ratio\n",
    "test_delta, test_cov = calc_slope_intercept_kalman(temp, [\"IJH\", \"MDY\"])\n",
    "test_hedge = test_delta[:,0]\n",
    "test_hedge = test_hedge[-len(test_prob):]"
   ]
  },
  {
   "cell_type": "code",
   "execution_count": 664,
   "id": "1aaac8d4",
   "metadata": {},
   "outputs": [
    {
     "data": {
      "text/plain": [
       "5112"
      ]
     },
     "execution_count": 664,
     "metadata": {},
     "output_type": "execute_result"
    }
   ],
   "source": [
    "len(hedge_volproxy_df[\"IJH to MDY\"]) - len(test_prob) "
   ]
  },
  {
   "cell_type": "code",
   "execution_count": 666,
   "id": "d1ae5b4a",
   "metadata": {},
   "outputs": [
    {
     "data": {
      "text/plain": [
       "0"
      ]
     },
     "execution_count": 666,
     "metadata": {},
     "output_type": "execute_result"
    }
   ],
   "source": [
    "len(hedge_volproxy_df[\"IJH to MDY\"][5112:]) - len(test_prob) "
   ]
  },
  {
   "cell_type": "code",
   "execution_count": 749,
   "id": "66d83c79",
   "metadata": {},
   "outputs": [
    {
     "data": {
      "text/plain": [
       "array([0.65800563, 0.65800563])"
      ]
     },
     "execution_count": 749,
     "metadata": {},
     "output_type": "execute_result"
    }
   ],
   "source": [
    "sv_pair_dalta[0,:]"
   ]
  },
  {
   "cell_type": "code",
   "execution_count": 675,
   "id": "31444760",
   "metadata": {},
   "outputs": [
    {
     "name": "stdout",
     "output_type": "stream",
     "text": [
      "Test set return = 0.491%\n",
      "Win Rate = 52.174%\n"
     ]
    }
   ],
   "source": [
    "lo = 0.25\n",
    "hi = 1-lo\n",
    "tags = [\"IJH\", \"MDY\"]\n",
    "pos = pd.DataFrame()\n",
    "pos['L1S2_1'] = np.zeros(len(test_hedge))\n",
    "pos['L1S2_2'] = np.zeros(len(test_hedge))\n",
    "pos['L2S1_1'] = np.zeros(len(test_hedge))\n",
    "pos['L2S1_2'] = np.zeros(len(test_hedge))\n",
    "\n",
    "# Establish position\n",
    "#pos['L1S2_1'] = np.where((test_prob['hfunc2'] <= lo) & (test_prob['hfunc1'] >= hi), test_hedge, 0)\n",
    "#pos['L1S2_2'] = np.where((test_prob['hfunc2'] <= lo) & (test_prob['hfunc1'] >= hi), -1, 0)\n",
    "#pos['L2S1_1'] = np.where((test_prob['hfunc1'] <= lo) & (test_prob['hfunc2'] >= hi), -hedge_ratio, 0)\n",
    "#pos['L2S1_2'] = np.where((test_prob['hfunc1'] <= lo) & (test_prob['hfunc2'] >= hi), +1, 0)\n",
    "\n",
    "# Establish position \n",
    "for i in range(1, len(pos)):\n",
    "    if(test_prob['hfunc2'].tolist()[i] <= lo and test_prob['hfunc1'].tolist()[i]>=hi and pos['L2S1_2'].tolist()[i-1] != 1):\n",
    "        pos.iloc[i,0] = test_hedge[i]\n",
    "        pos.iloc[i,1] = -1\n",
    "    if(test_prob['hfunc1'].tolist()[i] <= lo and test_prob['hfunc2'].tolist()[i]>=hi and pos['L1S2_2'].tolist()[i-1] != -1):\n",
    "        pos.iloc[i,2] = -test_hedge[i]\n",
    "        pos.iloc[i,3] = 1\n",
    "\n",
    "\n",
    "test_r = calc_return(test, pos, tags)\n",
    "test_winRate = calc_winrate(test, pos, tags)\n",
    "print(\"Test set return = %0.3f\" %test_r + \"%\")\n",
    "print(\"Win Rate = %0.3f\" %test_winRate + \"%\")"
   ]
  },
  {
   "cell_type": "code",
   "execution_count": 394,
   "id": "4b30c413",
   "metadata": {},
   "outputs": [
    {
     "data": {
      "text/html": [
       "<div>\n",
       "<style scoped>\n",
       "    .dataframe tbody tr th:only-of-type {\n",
       "        vertical-align: middle;\n",
       "    }\n",
       "\n",
       "    .dataframe tbody tr th {\n",
       "        vertical-align: top;\n",
       "    }\n",
       "\n",
       "    .dataframe thead th {\n",
       "        text-align: right;\n",
       "    }\n",
       "</style>\n",
       "<table border=\"1\" class=\"dataframe\">\n",
       "  <thead>\n",
       "    <tr style=\"text-align: right;\">\n",
       "      <th></th>\n",
       "      <th>Unnamed: 0</th>\n",
       "      <th>Date</th>\n",
       "      <th>IJH</th>\n",
       "      <th>MDY</th>\n",
       "    </tr>\n",
       "  </thead>\n",
       "  <tbody>\n",
       "    <tr>\n",
       "      <th>0</th>\n",
       "      <td>4545</td>\n",
       "      <td>2018-08-14</td>\n",
       "      <td>0.009228</td>\n",
       "      <td>0.009241</td>\n",
       "    </tr>\n",
       "    <tr>\n",
       "      <th>1</th>\n",
       "      <td>4546</td>\n",
       "      <td>2018-08-15</td>\n",
       "      <td>-0.009144</td>\n",
       "      <td>-0.009348</td>\n",
       "    </tr>\n",
       "    <tr>\n",
       "      <th>2</th>\n",
       "      <td>4547</td>\n",
       "      <td>2018-08-16</td>\n",
       "      <td>0.007968</td>\n",
       "      <td>0.008274</td>\n",
       "    </tr>\n",
       "    <tr>\n",
       "      <th>3</th>\n",
       "      <td>4548</td>\n",
       "      <td>2018-08-17</td>\n",
       "      <td>0.005153</td>\n",
       "      <td>0.005077</td>\n",
       "    </tr>\n",
       "    <tr>\n",
       "      <th>4</th>\n",
       "      <td>4549</td>\n",
       "      <td>2018-08-20</td>\n",
       "      <td>0.003783</td>\n",
       "      <td>0.003741</td>\n",
       "    </tr>\n",
       "  </tbody>\n",
       "</table>\n",
       "</div>"
      ],
      "text/plain": [
       "   Unnamed: 0        Date       IJH       MDY\n",
       "0        4545  2018-08-14  0.009228  0.009241\n",
       "1        4546  2018-08-15 -0.009144 -0.009348\n",
       "2        4547  2018-08-16  0.007968  0.008274\n",
       "3        4548  2018-08-17  0.005153  0.005077\n",
       "4        4549  2018-08-20  0.003783  0.003741"
      ]
     },
     "execution_count": 394,
     "metadata": {},
     "output_type": "execute_result"
    }
   ],
   "source": [
    "test.head()"
   ]
  },
  {
   "cell_type": "code",
   "execution_count": 552,
   "id": "4bbbe4f2",
   "metadata": {},
   "outputs": [],
   "source": [
    "entries = np.array(pos['L1S2_2']) + np.array(pos['L2S1_2'])"
   ]
  },
  {
   "cell_type": "code",
   "execution_count": 693,
   "id": "6eb1632e",
   "metadata": {},
   "outputs": [],
   "source": [
    "p1 = pos[[\"L1S2_1\", \"L1S2_2\"]]\n",
    "p1 = p1[:-1]\n",
    "p2 = pos[[\"L2S1_1\", \"L2S1_2\"]]\n",
    "p2 = p2[:-1] \n",
    "# drop the first row of returns as there is no position for the first day\n",
    "returns = np.array([test['IJH'], test['MDY']]).T\n",
    "returns = returns[1:,] \n",
    "\n",
    "# Get total returns\n",
    "returns1 = np.dot(returns, p1.to_numpy().T)\n",
    "returns2 = np.dot(returns, p2.to_numpy().T)\n",
    "\n",
    "test_returns = (returns1.diagonal() + returns2.diagonal())*100"
   ]
  },
  {
   "cell_type": "code",
   "execution_count": 695,
   "id": "fc6ae25d",
   "metadata": {},
   "outputs": [
    {
     "data": {
      "image/png": "[encoded data removed]",
      "text/plain": [
       "<Figure size 1008x432 with 2 Axes>"
      ]
     },
     "metadata": {
      "needs_background": "light"
     },
     "output_type": "display_data"
    }
   ],
   "source": [
    "# Plot position overtime, and returns over time.\n",
    "plt.rcParams[\"figure.figsize\"] = [14, 6]\n",
    "plt.rcParams[\"figure.autolayout\"] = True\n",
    "\n",
    "fig, (ax1, ax2) = plt.subplots(2, 1)\n",
    "ax1.plot(list(test.index)[1:], entries[1:])\n",
    "ax1.set(ylabel='Position')\n",
    "ax1.set_title(\"Positions Across Time\")\n",
    "\n",
    "ax2.plot(list(test.index)[1:], test_returns)\n",
    "ax2.set(xlabel='Time', ylabel='Return(%)')\n",
    "line1 = ax2.axhline(test_r, color='r', linestyle='--')\n",
    "ax2.set_title(\"Returns(%) Across Time\")\n",
    "ax2.legend([line1], [\"Return = 0.491%\"])\n",
    "plt.show()"
   ]
  }
 ],
 "metadata": {
  "kernelspec": {
   "display_name": "Python 3 (ipykernel)",
   "language": "python",
   "name": "python3"
  },
  "language_info": {
   "codemirror_mode": {
    "name": "ipython",
    "version": 3
   },
   "file_extension": ".py",
   "mimetype": "text/x-python",
   "name": "python",
   "nbconvert_exporter": "python",
   "pygments_lexer": "ipython3",
   "version": "3.9.7"
  }
 },
 "nbformat": 4,
 "nbformat_minor": 5
}
